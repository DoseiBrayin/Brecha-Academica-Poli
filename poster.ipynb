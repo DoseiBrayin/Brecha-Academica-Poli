{
 "cells": [
  {
   "cell_type": "markdown",
   "metadata": {},
   "source": [
    "## Importacion del cvs"
   ]
  },
  {
   "cell_type": "code",
   "execution_count": 256,
   "metadata": {},
   "outputs": [
    {
     "data": {
      "text/html": [
       "<div>\n",
       "<style scoped>\n",
       "    .dataframe tbody tr th:only-of-type {\n",
       "        vertical-align: middle;\n",
       "    }\n",
       "\n",
       "    .dataframe tbody tr th {\n",
       "        vertical-align: top;\n",
       "    }\n",
       "\n",
       "    .dataframe thead th {\n",
       "        text-align: right;\n",
       "    }\n",
       "</style>\n",
       "<table border=\"1\" class=\"dataframe\">\n",
       "  <thead>\n",
       "    <tr style=\"text-align: right;\">\n",
       "      <th></th>\n",
       "      <th>Horas_Trabaja</th>\n",
       "      <th>Becario</th>\n",
       "      <th>carrera</th>\n",
       "      <th>semestre</th>\n",
       "      <th>promedio</th>\n",
       "      <th>Personas_Cargo</th>\n",
       "      <th>Genero</th>\n",
       "      <th>Edad</th>\n",
       "    </tr>\n",
       "  </thead>\n",
       "  <tbody>\n",
       "    <tr>\n",
       "      <th>0</th>\n",
       "      <td>0</td>\n",
       "      <td>Sí</td>\n",
       "      <td>Gestión de empresas</td>\n",
       "      <td>4</td>\n",
       "      <td>3.0</td>\n",
       "      <td>No</td>\n",
       "      <td>Femenino</td>\n",
       "      <td>21</td>\n",
       "    </tr>\n",
       "    <tr>\n",
       "      <th>1</th>\n",
       "      <td>24</td>\n",
       "      <td>Sí</td>\n",
       "      <td>ing informatica</td>\n",
       "      <td>5</td>\n",
       "      <td>3.2</td>\n",
       "      <td>No</td>\n",
       "      <td>Masculino</td>\n",
       "      <td>21</td>\n",
       "    </tr>\n",
       "    <tr>\n",
       "      <th>2</th>\n",
       "      <td>0</td>\n",
       "      <td>No</td>\n",
       "      <td>Construcciones civiles</td>\n",
       "      <td>4</td>\n",
       "      <td>3.6</td>\n",
       "      <td>Sí</td>\n",
       "      <td>Femenino</td>\n",
       "      <td>24</td>\n",
       "    </tr>\n",
       "    <tr>\n",
       "      <th>3</th>\n",
       "      <td>48</td>\n",
       "      <td>No</td>\n",
       "      <td>Ingeniería informática</td>\n",
       "      <td>2</td>\n",
       "      <td>3.8</td>\n",
       "      <td>No</td>\n",
       "      <td>Masculino</td>\n",
       "      <td>21</td>\n",
       "    </tr>\n",
       "    <tr>\n",
       "      <th>4</th>\n",
       "      <td>0</td>\n",
       "      <td>Sí</td>\n",
       "      <td>Tecnología en química industrial y de laborato...</td>\n",
       "      <td>2</td>\n",
       "      <td>3.8</td>\n",
       "      <td>No</td>\n",
       "      <td>Femenino</td>\n",
       "      <td>20</td>\n",
       "    </tr>\n",
       "  </tbody>\n",
       "</table>\n",
       "</div>"
      ],
      "text/plain": [
       "   Horas_Trabaja Becario                                            carrera  \\\n",
       "0              0      Sí                                Gestión de empresas   \n",
       "1             24      Sí                                    ing informatica   \n",
       "2              0      No                             Construcciones civiles   \n",
       "3             48      No                            Ingeniería informática    \n",
       "4              0      Sí  Tecnología en química industrial y de laborato...   \n",
       "\n",
       "   semestre  promedio Personas_Cargo     Genero  Edad  \n",
       "0         4       3.0             No   Femenino    21  \n",
       "1         5       3.2             No  Masculino    21  \n",
       "2         4       3.6             Sí   Femenino    24  \n",
       "3         2       3.8             No  Masculino    21  \n",
       "4         2       3.8             No   Femenino    20  "
      ]
     },
     "execution_count": 256,
     "metadata": {},
     "output_type": "execute_result"
    }
   ],
   "source": [
    "import pandas as pd\n",
    "\n",
    "df = pd.read_csv(\"academica2.csv\")\n",
    "\n",
    "df.head()"
   ]
  },
  {
   "cell_type": "code",
   "execution_count": 257,
   "metadata": {},
   "outputs": [],
   "source": [
    "\n",
    "import seaborn as sns\n",
    "from scipy import stats\n",
    "import matplotlib.pyplot as plt\n",
    "\n",
    "#Dividimos las poblaciones en 4 posibles grupos de estudiantes\n",
    "\n",
    "df_P1 = df[(df[\"Becario\"]==\"Sí\") & (df[\"Personas_Cargo\"]==\"Sí\")]\n",
    "df_P2 = df[(df[\"Becario\"]==\"Sí\") & (df[\"Personas_Cargo\"]==\"No\")]\n",
    "df_P3 = df[(df[\"Becario\"]==\"No\") & (df[\"Personas_Cargo\"]==\"No\")]\n",
    "df_P4 = df[(df[\"Becario\"]==\"No\") & (df[\"Personas_Cargo\"]==\"Sí\")]\n"
   ]
  },
  {
   "cell_type": "markdown",
   "metadata": {},
   "source": [
    "### Descripcion de los datos"
   ]
  },
  {
   "cell_type": "markdown",
   "metadata": {},
   "source": [
    "#### Grupo 2"
   ]
  },
  {
   "cell_type": "code",
   "execution_count": 258,
   "metadata": {},
   "outputs": [
    {
     "data": {
      "text/html": [
       "<div>\n",
       "<style scoped>\n",
       "    .dataframe tbody tr th:only-of-type {\n",
       "        vertical-align: middle;\n",
       "    }\n",
       "\n",
       "    .dataframe tbody tr th {\n",
       "        vertical-align: top;\n",
       "    }\n",
       "\n",
       "    .dataframe thead th {\n",
       "        text-align: right;\n",
       "    }\n",
       "</style>\n",
       "<table border=\"1\" class=\"dataframe\">\n",
       "  <thead>\n",
       "    <tr style=\"text-align: right;\">\n",
       "      <th></th>\n",
       "      <th>Horas_Trabaja</th>\n",
       "      <th>semestre</th>\n",
       "      <th>promedio</th>\n",
       "      <th>Edad</th>\n",
       "    </tr>\n",
       "  </thead>\n",
       "  <tbody>\n",
       "    <tr>\n",
       "      <th>count</th>\n",
       "      <td>26.000000</td>\n",
       "      <td>26.000000</td>\n",
       "      <td>26.000000</td>\n",
       "      <td>26.000000</td>\n",
       "    </tr>\n",
       "    <tr>\n",
       "      <th>mean</th>\n",
       "      <td>6.730769</td>\n",
       "      <td>4.115385</td>\n",
       "      <td>4.007692</td>\n",
       "      <td>20.307692</td>\n",
       "    </tr>\n",
       "    <tr>\n",
       "      <th>std</th>\n",
       "      <td>13.952943</td>\n",
       "      <td>1.751044</td>\n",
       "      <td>0.419450</td>\n",
       "      <td>2.186673</td>\n",
       "    </tr>\n",
       "    <tr>\n",
       "      <th>min</th>\n",
       "      <td>0.000000</td>\n",
       "      <td>1.000000</td>\n",
       "      <td>3.000000</td>\n",
       "      <td>17.000000</td>\n",
       "    </tr>\n",
       "    <tr>\n",
       "      <th>25%</th>\n",
       "      <td>0.000000</td>\n",
       "      <td>3.250000</td>\n",
       "      <td>3.825000</td>\n",
       "      <td>19.000000</td>\n",
       "    </tr>\n",
       "    <tr>\n",
       "      <th>50%</th>\n",
       "      <td>0.000000</td>\n",
       "      <td>4.000000</td>\n",
       "      <td>4.000000</td>\n",
       "      <td>20.000000</td>\n",
       "    </tr>\n",
       "    <tr>\n",
       "      <th>75%</th>\n",
       "      <td>0.000000</td>\n",
       "      <td>6.000000</td>\n",
       "      <td>4.200000</td>\n",
       "      <td>21.000000</td>\n",
       "    </tr>\n",
       "    <tr>\n",
       "      <th>max</th>\n",
       "      <td>48.000000</td>\n",
       "      <td>6.000000</td>\n",
       "      <td>4.700000</td>\n",
       "      <td>26.000000</td>\n",
       "    </tr>\n",
       "  </tbody>\n",
       "</table>\n",
       "</div>"
      ],
      "text/plain": [
       "       Horas_Trabaja   semestre   promedio       Edad\n",
       "count      26.000000  26.000000  26.000000  26.000000\n",
       "mean        6.730769   4.115385   4.007692  20.307692\n",
       "std        13.952943   1.751044   0.419450   2.186673\n",
       "min         0.000000   1.000000   3.000000  17.000000\n",
       "25%         0.000000   3.250000   3.825000  19.000000\n",
       "50%         0.000000   4.000000   4.000000  20.000000\n",
       "75%         0.000000   6.000000   4.200000  21.000000\n",
       "max        48.000000   6.000000   4.700000  26.000000"
      ]
     },
     "execution_count": 258,
     "metadata": {},
     "output_type": "execute_result"
    }
   ],
   "source": [
    "df_P2.describe()"
   ]
  },
  {
   "cell_type": "markdown",
   "metadata": {},
   "source": [
    "#### Grupo 3"
   ]
  },
  {
   "cell_type": "code",
   "execution_count": 259,
   "metadata": {},
   "outputs": [
    {
     "data": {
      "text/html": [
       "<div>\n",
       "<style scoped>\n",
       "    .dataframe tbody tr th:only-of-type {\n",
       "        vertical-align: middle;\n",
       "    }\n",
       "\n",
       "    .dataframe tbody tr th {\n",
       "        vertical-align: top;\n",
       "    }\n",
       "\n",
       "    .dataframe thead th {\n",
       "        text-align: right;\n",
       "    }\n",
       "</style>\n",
       "<table border=\"1\" class=\"dataframe\">\n",
       "  <thead>\n",
       "    <tr style=\"text-align: right;\">\n",
       "      <th></th>\n",
       "      <th>Horas_Trabaja</th>\n",
       "      <th>semestre</th>\n",
       "      <th>promedio</th>\n",
       "      <th>Edad</th>\n",
       "    </tr>\n",
       "  </thead>\n",
       "  <tbody>\n",
       "    <tr>\n",
       "      <th>count</th>\n",
       "      <td>70.000000</td>\n",
       "      <td>70.000000</td>\n",
       "      <td>70.000000</td>\n",
       "      <td>70.000000</td>\n",
       "    </tr>\n",
       "    <tr>\n",
       "      <th>mean</th>\n",
       "      <td>14.342857</td>\n",
       "      <td>4.014286</td>\n",
       "      <td>4.128571</td>\n",
       "      <td>21.700000</td>\n",
       "    </tr>\n",
       "    <tr>\n",
       "      <th>std</th>\n",
       "      <td>19.309745</td>\n",
       "      <td>2.129795</td>\n",
       "      <td>0.371890</td>\n",
       "      <td>3.329055</td>\n",
       "    </tr>\n",
       "    <tr>\n",
       "      <th>min</th>\n",
       "      <td>0.000000</td>\n",
       "      <td>1.000000</td>\n",
       "      <td>3.200000</td>\n",
       "      <td>17.000000</td>\n",
       "    </tr>\n",
       "    <tr>\n",
       "      <th>25%</th>\n",
       "      <td>0.000000</td>\n",
       "      <td>2.000000</td>\n",
       "      <td>3.900000</td>\n",
       "      <td>19.250000</td>\n",
       "    </tr>\n",
       "    <tr>\n",
       "      <th>50%</th>\n",
       "      <td>3.000000</td>\n",
       "      <td>4.000000</td>\n",
       "      <td>4.100000</td>\n",
       "      <td>21.000000</td>\n",
       "    </tr>\n",
       "    <tr>\n",
       "      <th>75%</th>\n",
       "      <td>23.500000</td>\n",
       "      <td>5.000000</td>\n",
       "      <td>4.400000</td>\n",
       "      <td>23.000000</td>\n",
       "    </tr>\n",
       "    <tr>\n",
       "      <th>max</th>\n",
       "      <td>66.000000</td>\n",
       "      <td>10.000000</td>\n",
       "      <td>4.800000</td>\n",
       "      <td>36.000000</td>\n",
       "    </tr>\n",
       "  </tbody>\n",
       "</table>\n",
       "</div>"
      ],
      "text/plain": [
       "       Horas_Trabaja   semestre   promedio       Edad\n",
       "count      70.000000  70.000000  70.000000  70.000000\n",
       "mean       14.342857   4.014286   4.128571  21.700000\n",
       "std        19.309745   2.129795   0.371890   3.329055\n",
       "min         0.000000   1.000000   3.200000  17.000000\n",
       "25%         0.000000   2.000000   3.900000  19.250000\n",
       "50%         3.000000   4.000000   4.100000  21.000000\n",
       "75%        23.500000   5.000000   4.400000  23.000000\n",
       "max        66.000000  10.000000   4.800000  36.000000"
      ]
     },
     "execution_count": 259,
     "metadata": {},
     "output_type": "execute_result"
    }
   ],
   "source": [
    "df_P3.describe()"
   ]
  },
  {
   "cell_type": "markdown",
   "metadata": {},
   "source": [
    "#### Grupo 4"
   ]
  },
  {
   "cell_type": "code",
   "execution_count": 260,
   "metadata": {},
   "outputs": [
    {
     "data": {
      "text/html": [
       "<div>\n",
       "<style scoped>\n",
       "    .dataframe tbody tr th:only-of-type {\n",
       "        vertical-align: middle;\n",
       "    }\n",
       "\n",
       "    .dataframe tbody tr th {\n",
       "        vertical-align: top;\n",
       "    }\n",
       "\n",
       "    .dataframe thead th {\n",
       "        text-align: right;\n",
       "    }\n",
       "</style>\n",
       "<table border=\"1\" class=\"dataframe\">\n",
       "  <thead>\n",
       "    <tr style=\"text-align: right;\">\n",
       "      <th></th>\n",
       "      <th>Horas_Trabaja</th>\n",
       "      <th>semestre</th>\n",
       "      <th>promedio</th>\n",
       "      <th>Edad</th>\n",
       "    </tr>\n",
       "  </thead>\n",
       "  <tbody>\n",
       "    <tr>\n",
       "      <th>count</th>\n",
       "      <td>8.000000</td>\n",
       "      <td>8.000000</td>\n",
       "      <td>8.000000</td>\n",
       "      <td>8.000000</td>\n",
       "    </tr>\n",
       "    <tr>\n",
       "      <th>mean</th>\n",
       "      <td>35.500000</td>\n",
       "      <td>4.750000</td>\n",
       "      <td>3.850000</td>\n",
       "      <td>31.750000</td>\n",
       "    </tr>\n",
       "    <tr>\n",
       "      <th>std</th>\n",
       "      <td>19.265068</td>\n",
       "      <td>2.052873</td>\n",
       "      <td>0.450397</td>\n",
       "      <td>7.629829</td>\n",
       "    </tr>\n",
       "    <tr>\n",
       "      <th>min</th>\n",
       "      <td>0.000000</td>\n",
       "      <td>2.000000</td>\n",
       "      <td>3.200000</td>\n",
       "      <td>23.000000</td>\n",
       "    </tr>\n",
       "    <tr>\n",
       "      <th>25%</th>\n",
       "      <td>32.500000</td>\n",
       "      <td>4.000000</td>\n",
       "      <td>3.675000</td>\n",
       "      <td>24.000000</td>\n",
       "    </tr>\n",
       "    <tr>\n",
       "      <th>50%</th>\n",
       "      <td>45.000000</td>\n",
       "      <td>4.000000</td>\n",
       "      <td>3.700000</td>\n",
       "      <td>32.500000</td>\n",
       "    </tr>\n",
       "    <tr>\n",
       "      <th>75%</th>\n",
       "      <td>48.000000</td>\n",
       "      <td>5.250000</td>\n",
       "      <td>4.025000</td>\n",
       "      <td>37.500000</td>\n",
       "    </tr>\n",
       "    <tr>\n",
       "      <th>max</th>\n",
       "      <td>48.000000</td>\n",
       "      <td>9.000000</td>\n",
       "      <td>4.600000</td>\n",
       "      <td>42.000000</td>\n",
       "    </tr>\n",
       "  </tbody>\n",
       "</table>\n",
       "</div>"
      ],
      "text/plain": [
       "       Horas_Trabaja  semestre  promedio       Edad\n",
       "count       8.000000  8.000000  8.000000   8.000000\n",
       "mean       35.500000  4.750000  3.850000  31.750000\n",
       "std        19.265068  2.052873  0.450397   7.629829\n",
       "min         0.000000  2.000000  3.200000  23.000000\n",
       "25%        32.500000  4.000000  3.675000  24.000000\n",
       "50%        45.000000  4.000000  3.700000  32.500000\n",
       "75%        48.000000  5.250000  4.025000  37.500000\n",
       "max        48.000000  9.000000  4.600000  42.000000"
      ]
     },
     "execution_count": 260,
     "metadata": {},
     "output_type": "execute_result"
    }
   ],
   "source": [
    "df_P4.describe()"
   ]
  },
  {
   "cell_type": "markdown",
   "metadata": {},
   "source": [
    "# Estudiamos la relacion entre Estudiar/Trabajar y ser becario"
   ]
  },
  {
   "cell_type": "markdown",
   "metadata": {},
   "source": [
    "## Grupo 2 Becarios sin personas a cargo\n",
    "Iniciaremos con el grupo 2, ya que no hay datos suficientes para dar una relación entre estudiantes becarios y con personas a cargo"
   ]
  },
  {
   "cell_type": "code",
   "execution_count": 261,
   "metadata": {},
   "outputs": [
    {
     "data": {
      "text/plain": [
       "<matplotlib.legend.Legend at 0x24984faa4c0>"
      ]
     },
     "execution_count": 261,
     "metadata": {},
     "output_type": "execute_result"
    },
    {
     "data": {
      "image/png": "[encoded data removed]",
      "text/plain": [
       "<Figure size 432x288 with 1 Axes>"
      ]
     },
     "metadata": {},
     "output_type": "display_data"
    }
   ],
   "source": [
    "pendiente, intercepto, r_value, p_value, std_err = stats.linregress(df_P2[\"promedio\"],df_P2[\"Horas_Trabaja\"])\n",
    "\n",
    "sns.regplot(data=df_P2,x=df_P2[\"promedio\"],y=df_P2[\"Horas_Trabaja\"],scatter=True,color=\"green\",order=1,label='order 1',line_kws={'label':\"y={0:.1f}x+{1:.1f}\".format(pendiente,intercepto)})\n",
    "plt.title(\"Becados sin persona a cargo\")\n",
    "plt.legend()"
   ]
  },
  {
   "cell_type": "markdown",
   "metadata": {},
   "source": [
    "## Grupo3  NO Becarios & sin Personas a cargo"
   ]
  },
  {
   "cell_type": "code",
   "execution_count": 262,
   "metadata": {},
   "outputs": [
    {
     "data": {
      "text/plain": [
       "<matplotlib.legend.Legend at 0x24985019370>"
      ]
     },
     "execution_count": 262,
     "metadata": {},
     "output_type": "execute_result"
    },
    {
     "data": {
      "image/png": "[encoded data removed]",
      "text/plain": [
       "<Figure size 432x288 with 1 Axes>"
      ]
     },
     "metadata": {},
     "output_type": "display_data"
    }
   ],
   "source": [
    "pendiente, intercepto, r_value, p_value, std_err = stats.linregress(df_P3[\"promedio\"],df_P3[\"Horas_Trabaja\"])\n",
    "\n",
    "sns.regplot(data=df_P3,x=df_P3[\"promedio\"],y=df_P3[\"Horas_Trabaja\"],scatter=True,color=\"green\",order=1,label='order 1',line_kws={'label':\"y={0:.1f}x+{1:.1f}\".format(pendiente,intercepto)})\n",
    "plt.title(\"No becado sin personas a cargo\")\n",
    "plt.legend()\n"
   ]
  },
  {
   "cell_type": "markdown",
   "metadata": {},
   "source": [
    "## Grupo 4 No becarios con personas a cargo"
   ]
  },
  {
   "cell_type": "code",
   "execution_count": 263,
   "metadata": {},
   "outputs": [
    {
     "data": {
      "text/plain": [
       "<matplotlib.legend.Legend at 0x2498501f970>"
      ]
     },
     "execution_count": 263,
     "metadata": {},
     "output_type": "execute_result"
    },
    {
     "data": {
      "image/png": "[encoded data removed]",
      "text/plain": [
       "<Figure size 432x288 with 1 Axes>"
      ]
     },
     "metadata": {},
     "output_type": "display_data"
    }
   ],
   "source": [
    "pendiente, intercepto, r_value, p_value, std_err = stats.linregress(df_P4[\"promedio\"],df_P4[\"Horas_Trabaja\"])\n",
    "\n",
    "sns.regplot(data=df_P4,x=df_P4[\"promedio\"],y=df_P4[\"Horas_Trabaja\"],scatter=True,color=\"green\",order=1,label='order 1',line_kws={'label':\"y={0:.1f}x+{1:.1f}\".format(pendiente,intercepto)})\n",
    "plt.title(\"No becado con personas a cargo\")\n",
    "plt.legend()"
   ]
  },
  {
   "cell_type": "markdown",
   "metadata": {},
   "source": [
    "## Podemos establecer intervalos de confianzar para nuestros 3 grupos principales"
   ]
  },
  {
   "cell_type": "markdown",
   "metadata": {},
   "source": [
    "Haremos una comparativa y subdividiremos nuestras dos poblaciones de estudio y compararemos su comportamiento con respecto a sus promedios y el semestre que cursa, los subdividiremos en grupos tales que \"NoTrabaja\" \"TrabajaMedioTiempo\" \"TrabajaFullTime\" "
   ]
  },
  {
   "cell_type": "markdown",
   "metadata": {},
   "source": [
    "## Grupo 2 Becarios sin personas a su cargo"
   ]
  },
  {
   "cell_type": "code",
   "execution_count": 264,
   "metadata": {},
   "outputs": [
    {
     "data": {
      "text/html": [
       "<div>\n",
       "<style scoped>\n",
       "    .dataframe tbody tr th:only-of-type {\n",
       "        vertical-align: middle;\n",
       "    }\n",
       "\n",
       "    .dataframe tbody tr th {\n",
       "        vertical-align: top;\n",
       "    }\n",
       "\n",
       "    .dataframe thead th {\n",
       "        text-align: right;\n",
       "    }\n",
       "</style>\n",
       "<table border=\"1\" class=\"dataframe\">\n",
       "  <thead>\n",
       "    <tr style=\"text-align: right;\">\n",
       "      <th></th>\n",
       "      <th>Horas_Trabaja</th>\n",
       "      <th>Becario</th>\n",
       "      <th>carrera</th>\n",
       "      <th>semestre</th>\n",
       "      <th>promedio</th>\n",
       "      <th>Personas_Cargo</th>\n",
       "      <th>Genero</th>\n",
       "      <th>Edad</th>\n",
       "    </tr>\n",
       "  </thead>\n",
       "  <tbody>\n",
       "    <tr>\n",
       "      <th>12</th>\n",
       "      <td>44</td>\n",
       "      <td>Sí</td>\n",
       "      <td>Comunicación Audiovisual</td>\n",
       "      <td>6</td>\n",
       "      <td>4.1</td>\n",
       "      <td>No</td>\n",
       "      <td>Femenino</td>\n",
       "      <td>23</td>\n",
       "    </tr>\n",
       "    <tr>\n",
       "      <th>96</th>\n",
       "      <td>48</td>\n",
       "      <td>Sí</td>\n",
       "      <td>Comunicación</td>\n",
       "      <td>4</td>\n",
       "      <td>4.6</td>\n",
       "      <td>No</td>\n",
       "      <td>Femenino</td>\n",
       "      <td>19</td>\n",
       "    </tr>\n",
       "  </tbody>\n",
       "</table>\n",
       "</div>"
      ],
      "text/plain": [
       "    Horas_Trabaja Becario                   carrera  semestre  promedio  \\\n",
       "12             44      Sí  Comunicación Audiovisual         6       4.1   \n",
       "96             48      Sí             Comunicación          4       4.6   \n",
       "\n",
       "   Personas_Cargo    Genero  Edad  \n",
       "12             No  Femenino    23  \n",
       "96             No  Femenino    19  "
      ]
     },
     "execution_count": 264,
     "metadata": {},
     "output_type": "execute_result"
    }
   ],
   "source": [
    "df_Notrabaja = df_P2[df_P2[\"Horas_Trabaja\"]==0]\n",
    "df_Midtrabaja = df_P2[(df_P2[\"Horas_Trabaja\"]>0) & (df_P2[\"Horas_Trabaja\"]<=24)]\n",
    "df_Fulltrabaja = df_P2[(df_P2[\"Horas_Trabaja\"]>24)]\n",
    "\n",
    "df_Fulltrabaja.head()"
   ]
  },
  {
   "cell_type": "code",
   "execution_count": 265,
   "metadata": {},
   "outputs": [
    {
     "name": "stdout",
     "output_type": "stream",
     "text": [
      "Intervalo no trabajan: Su intervalo de confianza es:(3.8,4.2) \n",
      "Intervalo trabajan medio tiempo: Su intervalo de confianza es:(3.2,4.4) \n",
      "Intervalo trabajan full time: Su intervalo de confianza es:(1.2,7.5) \n"
     ]
    }
   ],
   "source": [
    "from cmath import sqrt\n",
    "import math\n",
    "def Intervalo_de_confianza(std,n,mean):\n",
    "    confianza = 0.95\n",
    "    t = std /math.sqrt(n) * stats.t.ppf((1+confianza)/2, n-1)\n",
    "    Q1 = (mean+t)\n",
    "    Q2 = (mean-t)\n",
    "    return \"Su intervalo de confianza es:({0:.1f},{1:.1f}) \".format(Q2,Q1)\n",
    "\n",
    "Intervalo_Notrabaja = Intervalo_de_confianza(df_Notrabaja[\"promedio\"].std(),len(df_Notrabaja),df_Notrabaja[\"promedio\"].mean())\n",
    "Intervalo_Midtrabaja = Intervalo_de_confianza(df_Midtrabaja[\"promedio\"].std(),len(df_Midtrabaja),df_Midtrabaja[\"promedio\"].mean())\n",
    "Intervalo_fullTrabaja = Intervalo_de_confianza(df_Fulltrabaja[\"promedio\"].std(),len(df_Fulltrabaja),df_Fulltrabaja[\"promedio\"].mean())\n",
    "\n",
    "print(\"Intervalo no trabajan: \"+Intervalo_Notrabaja)\n",
    "print(\"Intervalo trabajan medio tiempo: \"+Intervalo_Midtrabaja)\n",
    "print(\"Intervalo trabajan full time: \"+Intervalo_fullTrabaja)"
   ]
  },
  {
   "cell_type": "markdown",
   "metadata": {},
   "source": [
    "### Grupo 3 No becados y sin personas a su cargo"
   ]
  },
  {
   "cell_type": "code",
   "execution_count": 266,
   "metadata": {},
   "outputs": [
    {
     "name": "stdout",
     "output_type": "stream",
     "text": [
      "Intervalo no trabajan: Su intervalo de confianza es:(4.0,4.3) \n",
      "Intervalo trabajan medio tiempo: Su intervalo de confianza es:(4.1,4.4) \n",
      "Intervalo trabajan full time: Su intervalo de confianza es:(3.8,4.2) \n"
     ]
    }
   ],
   "source": [
    "df_Notrabaja = df_P3[df_P3[\"Horas_Trabaja\"]==0]\n",
    "df_Midtrabaja = df_P3[(df_P3[\"Horas_Trabaja\"]>0) & (df_P3[\"Horas_Trabaja\"]<=24)]\n",
    "df_Fulltrabaja = df_P3[(df_P3[\"Horas_Trabaja\"]>24)]\n",
    "\n",
    "Intervalo_Notrabaja = Intervalo_de_confianza(df_Notrabaja[\"promedio\"].std(),len(df_Notrabaja),df_Notrabaja[\"promedio\"].mean())\n",
    "Intervalo_Midtrabaja = Intervalo_de_confianza(df_Midtrabaja[\"promedio\"].std(),len(df_Midtrabaja),df_Midtrabaja[\"promedio\"].mean())\n",
    "Intervalo_fullTrabaja = Intervalo_de_confianza(df_Fulltrabaja[\"promedio\"].std(),len(df_Fulltrabaja),df_Fulltrabaja[\"promedio\"].mean())\n",
    "\n",
    "print(\"Intervalo no trabajan: \"+Intervalo_Notrabaja)\n",
    "print(\"Intervalo trabajan medio tiempo: \"+Intervalo_Midtrabaja)\n",
    "print(\"Intervalo trabajan full time: \"+Intervalo_fullTrabaja)"
   ]
  },
  {
   "cell_type": "markdown",
   "metadata": {},
   "source": [
    "### Grupo 4 No becados y con personas a cargo"
   ]
  },
  {
   "cell_type": "code",
   "execution_count": 267,
   "metadata": {},
   "outputs": [
    {
     "name": "stdout",
     "output_type": "stream",
     "text": [
      "Intervalo no trabajan: Su intervalo de confianza es:(nan,nan) \n",
      "Intervalo trabajan medio tiempo: Su intervalo de confianza es:(nan,nan) \n",
      "Intervalo trabajan full time: Su intervalo de confianza es:(3.3,4.3) \n"
     ]
    }
   ],
   "source": [
    "df_Notrabaja = df_P4[df_P4[\"Horas_Trabaja\"]==0]\n",
    "df_Midtrabaja = df_P4[(df_P4[\"Horas_Trabaja\"]>0) & (df_P4[\"Horas_Trabaja\"]<=24)]\n",
    "df_Fulltrabaja = df_P4[(df_P4[\"Horas_Trabaja\"]>24)]\n",
    "\n",
    "Intervalo_Notrabaja = Intervalo_de_confianza(df_Notrabaja[\"promedio\"].std(),len(df_Notrabaja),df_Notrabaja[\"promedio\"].mean())\n",
    "Intervalo_Midtrabaja = Intervalo_de_confianza(df_Midtrabaja[\"promedio\"].std(),len(df_Midtrabaja),df_Midtrabaja[\"promedio\"].mean())\n",
    "Intervalo_fullTrabaja = Intervalo_de_confianza(df_Fulltrabaja[\"promedio\"].std(),len(df_Fulltrabaja),df_Fulltrabaja[\"promedio\"].mean())\n",
    "\n",
    "print(\"Intervalo no trabajan: \"+Intervalo_Notrabaja)\n",
    "print(\"Intervalo trabajan medio tiempo: \"+Intervalo_Midtrabaja)\n",
    "print(\"Intervalo trabajan full time: \"+Intervalo_fullTrabaja)"
   ]
  }
 ],
 "metadata": {
  "kernelspec": {
   "display_name": "Python 3.8.3 64-bit",
   "language": "python",
   "name": "python3"
  },
  "language_info": {
   "codemirror_mode": {
    "name": "ipython",
    "version": 3
   },
   "file_extension": ".py",
   "mimetype": "text/x-python",
   "name": "python",
   "nbconvert_exporter": "python",
   "pygments_lexer": "ipython3",
   "version": "3.8.3"
  },
  "orig_nbformat": 4,
  "vscode": {
   "interpreter": {
    "hash": "aadc960e2afc7ca7a2a72b871e11feb463c930330201b6369ec91ea194824c2e"
   }
  }
 },
 "nbformat": 4,
 "nbformat_minor": 2
}
